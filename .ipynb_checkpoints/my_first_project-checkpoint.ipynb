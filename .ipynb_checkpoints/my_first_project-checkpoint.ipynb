{
 "cells": [
  {
   "cell_type": "code",
   "execution_count": 2,
   "id": "cb1c9abd-9ecf-443c-8db5-14a441708108",
   "metadata": {},
   "outputs": [
    {
     "name": "stdout",
     "output_type": "stream",
     "text": [
      "[0, 0, 0, 0, 0, 0, 0]\n",
      "[0, 0, 0, 0, 0, 0, 0]\n",
      "[0, 0, 0, 0, 0, 0, 0]\n",
      "[0, 0, 0, 0, 0, 0, 0]\n",
      "[0, 0, 0, 0, 0, 0, 0]\n",
      "[0, 0, 0, 0, 0, 0, 0]\n"
     ]
    }
   ],
   "source": [
    "# Initialize a 6x7 matrix filled with 0s\n",
    "matrix = [[0 for _ in range(7)] for _ in range(6)]\n",
    "\n",
    "# Display the matrix\n",
    "for row in matrix:\n",
    "    print(row)"
   ]
  },
  {
   "cell_type": "code",
   "execution_count": null,
   "id": "d45351a5-d8d5-4e6e-8072-eb631fef9893",
   "metadata": {},
   "outputs": [],
   "source": [
    "#The rows are represented by the outer list (i.e., the number of lists inside the main list).\n",
    "#The columns are represented by the inner list (i.e., the number of elements within each sublist).\n",
    "#Explanation:\n",
    "#There are 6 rows because the outer list has 6 elements (each of which is a list itself).\n",
    "#There are 7 columns because each inner list has 7 elements (filled with 0 in this case).\n",
    "#This means matrix[i][j] refers to the element in the i-th row and the j-th column, where i and j are zero-based indices."
   ]
  }
 ],
 "metadata": {
  "kernelspec": {
   "display_name": "Python 3 (ipykernel)",
   "language": "python",
   "name": "python3"
  },
  "language_info": {
   "codemirror_mode": {
    "name": "ipython",
    "version": 3
   },
   "file_extension": ".py",
   "mimetype": "text/x-python",
   "name": "python",
   "nbconvert_exporter": "python",
   "pygments_lexer": "ipython3",
   "version": "3.12.4"
  }
 },
 "nbformat": 4,
 "nbformat_minor": 5
}
